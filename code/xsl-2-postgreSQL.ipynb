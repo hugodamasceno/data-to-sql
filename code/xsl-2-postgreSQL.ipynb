{
 "cells": [
  {
   "cell_type": "markdown",
   "metadata": {},
   "source": [
    "---\n",
    "\n",
    "<div align=\"center\">\n",
    "    <h3>Código para criação e inserção de dados de tabela .xls\n",
    "    </h3>\n",
    "    <p align=\"justify\">\n",
    "    O código que segue tem como objetivo extrair os dados contidos no arquivo .xls, averiguar as tipagens adequadas para cada dado, criar uma tabela com o mesmo nome do arquivo original e com cada uma das colunas, contendo já o tipo de dado. Esta versão ainda não apresenta capacidade de já pré-definir constraints, mas é uma feature prevista.\n",
    "    </p>\n",
    "</div>\n",
    "\n",
    "---"
   ]
  },
  {
   "cell_type": "code",
   "execution_count": null,
   "metadata": {},
   "outputs": [],
   "source": [
    "# Bibliotecas necessárias para o presente projeto\n",
    "import psycopg2\n",
    "import re\n",
    "import pandas as pd\n",
    "from unidecode import unidecode"
   ]
  },
  {
   "cell_type": "code",
   "execution_count": null,
   "metadata": {},
   "outputs": [],
   "source": [
    "# Arquivo de credenciais necessárias para acessar banco de dados\n",
    "credentials = pd.read_csv(\"../credentials/credentials.csv\").iloc[0].to_dict()"
   ]
  },
  {
   "cell_type": "code",
   "execution_count": null,
   "metadata": {},
   "outputs": [],
   "source": [
    "# Função para criar conexão e cursor\n",
    "def conectar():\n",
    "    host = credentials['host']\n",
    "    dbname = credentials['database']\n",
    "    user = credentials['user']\n",
    "    password = credentials['password']\n",
    "    sslmode = \"require\"\n",
    "\n",
    "    conn_string = \"host={0} user={1} dbname={2} password={3} sslmode={4}\".format(host, user, dbname, password, sslmode)\n",
    "    conexao = psycopg2.connect(conn_string) \n",
    "    print(\"Connection established\")\n",
    "    cursor = conexao.cursor()\n",
    "\n",
    "    cursor = conexao.cursor()\n",
    "    return conexao, cursor\n",
    "\n",
    "# Função para executar uma query\n",
    "def executar_query(cursor, query):\n",
    "    cursor.execute(query)\n",
    "    # Verificar se a consulta retorna resultados (SELECT)\n",
    "    if cursor.description is not None:\n",
    "        colunas = [desc[0] for desc in cursor.description]\n",
    "        resultados = cursor.fetchall()\n",
    "        return pd.DataFrame(resultados, columns=colunas)\n",
    "    else:\n",
    "        # Se não há resultados, retornar None ou outra indicação apropriada\n",
    "        return None\n",
    "\n",
    "# Função para fechar a conexão e o cursor\n",
    "def fechar_conexao(conexao, cursor):\n",
    "    cursor.close()\n",
    "    conexao.close()\n",
    "    print(\"Connection finished\")"
   ]
  },
  {
   "cell_type": "code",
   "execution_count": null,
   "metadata": {},
   "outputs": [],
   "source": [
    "# Carrega o arquivo .xls para um DataFrame\n",
    "PATH = '../data_xls/Financial Sample.xlsx'\n",
    "dados = pd.read_excel(PATH)\n",
    "\n",
    "# Obtém o nome do arquivo (sem a extensão) e ajusta para ser utilizável como nome de tabela\n",
    "nome_tabela = PATH.split('/')[-1].split('.')[0].lower().replace(\" \",\"_\")\n",
    "\n",
    "# Obtém informações sobre as colunas e seus tipos\n",
    "info_colunas = dados.dtypes.reset_index()\n",
    "info_colunas.columns = ['nome_coluna', 'tipo']"
   ]
  },
  {
   "cell_type": "code",
   "execution_count": null,
   "metadata": {},
   "outputs": [],
   "source": [
    "# Adequa nome das colunas caso haja espaço antes ou depois\n",
    "info_colunas['nome_coluna'] = info_colunas['nome_coluna'].str.strip()\n",
    "\n",
    "# Adequação dos nomes das colunas.\n",
    "info_colunas['novo_nome_coluna'] = info_colunas['nome_coluna'].apply(lambda x: re.sub(r'\\W+', '_', unidecode(str(x)).lower()))\n",
    "\n",
    "# Transforma o nome dos tipos em string para devida identificação\n",
    "info_colunas['tipo']  = info_colunas['tipo'].astype('str')\n",
    "\n",
    "# Converte os tipos pandas para tipos SQL\n",
    "mapeamento_tipos_sql = {\n",
    "    'int64': 'INTEGER',\n",
    "    'float64': 'FLOAT',\n",
    "    'object': 'TEXT',\n",
    "    'datetime64[ns]': 'TIMESTAMP'\n",
    "}\n",
    "\n",
    "info_colunas['tipo_sql'] = info_colunas['tipo'].map(mapeamento_tipos_sql)"
   ]
  },
  {
   "cell_type": "code",
   "execution_count": null,
   "metadata": {},
   "outputs": [],
   "source": [
    "# Dicionário de conversão de nomes da tabela .xls para tabela no SQL\n",
    "de_para = dict(zip(info_colunas['nome_coluna'], info_colunas['novo_nome_coluna']))\n",
    "\n",
    "# Usa de_para para renomear coluna de dados\n",
    "dados.rename(columns=de_para, inplace=True)"
   ]
  },
  {
   "cell_type": "code",
   "execution_count": null,
   "metadata": {},
   "outputs": [],
   "source": [
    "# Construção de query para criação da tabela referente ao arquivo em questão\n",
    "query = f'''CREATE TABLE IF NOT EXISTS {nome_tabela} ( \\n'''\n",
    "for i, j, coluna, tipo in info_colunas.values:\n",
    "    if coluna != info_colunas[\"novo_nome_coluna\"].iloc[-1]:\n",
    "        query += f\" {coluna} {tipo},\\n\"\n",
    "    else:\n",
    "        query += f\" {coluna} {tipo}\\n);\"\n",
    "\n",
    "## Cria conexão\n",
    "conexao, cursor = conectar()\n",
    "\n",
    "# Executa a query\n",
    "df = executar_query(cursor, query)\n",
    "\n",
    "# Comita possível criação de nova tabela\n",
    "conexao.commit()\n",
    "\n",
    "# Fecha conexão\n",
    "fechar_conexao(conexao, cursor)"
   ]
  },
  {
   "cell_type": "code",
   "execution_count": null,
   "metadata": {},
   "outputs": [],
   "source": [
    "# Inicia conexão\n",
    "conexao, cursor = conectar()\n",
    "\n",
    "# Inserção apenas das primeiras 500 linhas\n",
    "for indice, linha in dados.iloc[:500,:].astype(str).iterrows():\n",
    "    linha_como_tupla = str(tuple(linha))\n",
    "    colunas = str(tuple(dados.columns)).replace(\"'\",\"\")\n",
    "    query = f'INSERT INTO {(nome_tabela)} {colunas} VALUES {linha_como_tupla}'\n",
    "    executar_query(cursor, query)\n",
    "\n",
    "# Comita inserções realizadas\n",
    "conexao.commit()\n",
    "\n",
    "# Fecha conexão\n",
    "fechar_conexao(conexao, cursor)"
   ]
  }
 ],
 "metadata": {
  "kernelspec": {
   "display_name": "Python 3",
   "language": "python",
   "name": "python3"
  },
  "language_info": {
   "name": "python",
   "version": "3.10.11"
  }
 },
 "nbformat": 4,
 "nbformat_minor": 2
}
